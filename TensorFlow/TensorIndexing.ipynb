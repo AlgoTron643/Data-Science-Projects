{
  "nbformat": 4,
  "nbformat_minor": 0,
  "metadata": {
    "colab": {
      "provenance": []
    },
    "kernelspec": {
      "name": "python3",
      "display_name": "Python 3"
    },
    "language_info": {
      "name": "python"
    }
  },
  "cells": [
    {
      "cell_type": "code",
      "execution_count": 2,
      "metadata": {
        "id": "PiBJDYJwqZgy"
      },
      "outputs": [],
      "source": [
        "import tensorflow as tf"
      ]
    },
    {
      "cell_type": "code",
      "source": [
        "tensor_indexed = tf.constant([3,6,2,4,6,66,7])\n",
        "print(tensor_indexed)\n",
        "print(tensor_indexed[0:4]) #Slicing technique\n",
        "print(tensor_indexed[1:5+1 ]) #Slicing technique similar to tf.range(2,6) or tf.range(2,5+1)\n",
        "print(tensor_indexed[1:6:2]) #Slicing technique with steps of 2\n",
        "#generally we have tensor_indexed[minindex:maxindex+1]\n",
        "print(tensor_indexed[:4]) #Slicing technique starts at 0 and ends at 4\n",
        "print(tensor_indexed[3:]) #Slicing technique starts at 0 and ends at the end of the tensor array\n",
        "print(tensor_indexed[3:-1]) #Slicing technique starts at 3 and goes 1 element less than the end\n",
        "print(tensor_indexed[3:-2]) #Slicing technique starts at 3 and goes 2 elements less than the end\n",
        "print(tensor_indexed[3:-4]) #Slicing technique starts at 3 and goes 4 elements less than the end giving error"
      ],
      "metadata": {
        "colab": {
          "base_uri": "https://localhost:8080/"
        },
        "id": "lddcH19DrG6h",
        "outputId": "12d3cda1-044d-42e3-d771-705f96071a9a"
      },
      "execution_count": 10,
      "outputs": [
        {
          "output_type": "stream",
          "name": "stdout",
          "text": [
            "tf.Tensor([ 3  6  2  4  6 66  7], shape=(7,), dtype=int32)\n",
            "tf.Tensor([3 6 2 4], shape=(4,), dtype=int32)\n",
            "tf.Tensor([ 6  2  4  6 66], shape=(5,), dtype=int32)\n",
            "tf.Tensor([ 6  4 66], shape=(3,), dtype=int32)\n",
            "tf.Tensor([3 6 2 4], shape=(4,), dtype=int32)\n",
            "tf.Tensor([ 4  6 66  7], shape=(4,), dtype=int32)\n",
            "tf.Tensor([ 4  6 66], shape=(3,), dtype=int32)\n",
            "tf.Tensor([4 6], shape=(2,), dtype=int32)\n",
            "tf.Tensor([], shape=(0,), dtype=int32)\n"
          ]
        }
      ]
    },
    {
      "cell_type": "code",
      "source": [
        "tensor_two_d = tf.constant( [ [1, 2,  0],\n",
        "                                               [3, 5, -1],\n",
        "                                               [1, 5, 6],\n",
        "                                               [2,3,8] ] )\n",
        "print(tensor_two_d[ 0:3, 0:2 ]) # Get first three consecutive rows and then the first two consecutive columns of them\n",
        "print(tensor_two_d[0:3, :]) # Get first three rows and then rest of the columns\n",
        "print(tensor_two_d[2, :]) # Get the third row and then rest of the columns, no need to put a range in row/column section if you want to grab a single row/column\n",
        "print(tensor_two_d[2, 0]) # Get the third row and then first column, no need to put a range in row/column section if you want to grab a single row/column\n",
        "print(tensor_two_d[2, 1:]) # Get the third row and then the second and third columns, no need to put a range in row/column section if you want to grab a single row/column\n",
        "print(tensor_two_d[:, 0]) # Grab all the rows and the first column for each row\n",
        "# print(tensor_two_d[, 0])  =>  Error as we haven't specified the row to be selected\n",
        "print(tensor_two_d[1:3, 0]) # Grab the first two rows and grab the first elements for each row\n",
        "print(tensor_two_d[..., 1 ])  # ... here means ' : ' => picking up everything"
      ],
      "metadata": {
        "colab": {
          "base_uri": "https://localhost:8080/"
        },
        "id": "UDj0oruStcmF",
        "outputId": "b56da77b-1fa9-4c1a-c00d-eca7735b499c"
      },
      "execution_count": 15,
      "outputs": [
        {
          "output_type": "stream",
          "name": "stdout",
          "text": [
            "tf.Tensor(\n",
            "[[1 2]\n",
            " [3 5]\n",
            " [1 5]], shape=(3, 2), dtype=int32)\n",
            "tf.Tensor(\n",
            "[[ 1  2  0]\n",
            " [ 3  5 -1]\n",
            " [ 1  5  6]], shape=(3, 3), dtype=int32)\n",
            "tf.Tensor([1 5 6], shape=(3,), dtype=int32)\n",
            "tf.Tensor(1, shape=(), dtype=int32)\n",
            "tf.Tensor([5 6], shape=(2,), dtype=int32)\n",
            "tf.Tensor([1 3 1 2], shape=(4,), dtype=int32)\n"
          ]
        }
      ]
    },
    {
      "cell_type": "code",
      "source": [
        "tensor_three_d = tf.constant( [\n",
        "                                                [ [1, 2, 0 ],\n",
        "                                                [3, 5, -1] ],\n",
        "\n",
        "                                                [ [10, 2, 0 ],\n",
        "                                                  [1, 0, 2] ],\n",
        "\n",
        "                                                [ [5, 8, 0 ],\n",
        "                                                  [2, 7, 0] ],\n",
        "\n",
        "                                                [ [2, 1, 9 ],\n",
        "                                                  [4, -3,  32] ]\n",
        "                                                ] )\n",
        "print(tensor_three_d[  0, : , : ])  # first dimension, second dimension and third dimension; here he have taken first tensor with all rows and all columns\n",
        "# Given 2 by 3 Tensor with 4 elements => Shape = (4, 2, 3)\n",
        "print(tensor_three_d[  0, 0, : ])  # grabs the first tensor and first row with every column for that row\n",
        "print(tensor_three_d[0, :, -1]) # grabs the first tensor, then all the rows but the last column => print(tensor_three_d[0, :, 2]) where 2 is the last column\n",
        "print(tensor_three_d[:2, :, 2]) # grabs the first two tensors , all rows but then the third column similar to print(tensor_three_d[:2, ... , 2])\n",
        "print(tensor_three_d[..., ..., 2])  # grabs all the tensors and all the rows but the third column (last index in this context) elements"
      ],
      "metadata": {
        "id": "1CTBslGZx3gO"
      },
      "execution_count": null,
      "outputs": []
    }
  ]
}